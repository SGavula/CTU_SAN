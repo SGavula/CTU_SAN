{
 "cells": [
  {
   "cell_type": "markdown",
   "id": "62009c95-fcdc-473c-905e-784840b61ae5",
   "metadata": {
    "tags": []
   },
   "source": [
    "# SAN Assignment - Linear Regression\n",
    "\n",
    "Author : Šimon Gavula\n",
    "\n",
    "Email  : gavulsim@fel.cvut.cz"
   ]
  },
  {
   "cell_type": "markdown",
   "id": "cc9d63f5-4cb2-47b4-bfba-4ea028983a67",
   "metadata": {
    "tags": []
   },
   "source": [
    "# Introduction\n",
    "You have already learned that a regression model may suffer from various issues. When constructing such a model, it is important to check for assumptions such as linearity, independence of errors, normality of residuals, homoscedasticity and the absence of multicollinearity. Additionally, there are other potential issues, such as irrelevant variables, which can reduce model performance. In this assignment you will aim to achieve the best possible linear model using the techniques you have already learned."
   ]
  },
  {
   "cell_type": "markdown",
   "id": "7e67aabd-d806-4c70-87cf-a0db397e9844",
   "metadata": {
    "jp-MarkdownHeadingCollapsed": true,
    "tags": []
   },
   "source": [
    "# Submission\n",
    "Fill in your name above for clarity.\n",
    "To solve this homework, simply write your answers into this document and fill in the marked pieces of code.\n",
    "Submit your solution consisting of both this modified notebook file and the **exported PDF or HTML document** as an archive to the courseware BRUTE upload system for the SAN course.\n",
    "The deadline is specified there. \n",
    "\n",
    "# Initialization\n",
    "\n",
    "Load the required libraries `numpy`, `pandas`, `scipy`, `seaborn`, `matplotlib` and `statsmodels`; make sure you have those installed."
   ]
  },
  {
   "cell_type": "code",
   "execution_count": 1,
   "id": "7736368f-6262-4140-af16-fff18e3e60e0",
   "metadata": {},
   "outputs": [],
   "source": [
    "import numpy as np\n",
    "import pandas as pd\n",
    "import statsmodels.api as sm\n",
    "import statsmodels.formula.api as smf\n",
    "from statsmodels.stats.diagnostic import het_breuschpagan\n",
    "from statsmodels.stats.outliers_influence import variance_inflation_factor\n",
    "from scipy.stats import shapiro\n",
    "import matplotlib.pyplot as plt"
   ]
  },
  {
   "cell_type": "code",
   "execution_count": 2,
   "id": "c3ef80f2-60e0-4343-a388-548159dcf057",
   "metadata": {
    "tags": []
   },
   "outputs": [],
   "source": [
    "# A little bit of a nice python implementation of regression diagnostics\n",
    "# Taken from https://www.statsmodels.org/dev/examples/notebooks/generated/linear_regression_diagnostics_plots.html\n",
    "\n",
    "# base code\n",
    "import seaborn as sns\n",
    "import statsmodels\n",
    "from statsmodels.tools.tools import maybe_unwrap_results\n",
    "from statsmodels.graphics.gofplots import ProbPlot\n",
    "from statsmodels.stats.outliers_influence import variance_inflation_factor\n",
    "from typing import Type\n",
    "\n",
    "style_talk = 'seaborn-talk'    #refer to plt.style.available\n",
    "\n",
    "class LinearRegDiagnostic():\n",
    "    \"\"\"\n",
    "    Diagnostic plots to identify potential problems in a linear regression fit.\n",
    "    Mainly,\n",
    "        a. non-linearity of data\n",
    "        b. Correlation of error terms\n",
    "        c. non-constant variance\n",
    "        d. outliers\n",
    "        e. high-leverage points\n",
    "        f. collinearity\n",
    "\n",
    "    Authors:\n",
    "        Prajwal Kafle (p33ajkafle@gmail.com, where 3 = r)\n",
    "        Does not come with any sort of warranty.\n",
    "        Please test the code one your end before using.\n",
    "\n",
    "        Matt Spinelli (m3spinelli@gmail.com, where 3 = r)\n",
    "        (1) Fixed incorrect annotation of the top most extreme residuals in\n",
    "            the Residuals vs Fitted and, especially, the Normal Q-Q plots.\n",
    "        (2) Changed Residuals vs Leverage plot to match closer the y-axis\n",
    "            range shown in the equivalent plot in the R package ggfortify.\n",
    "        (3) Added horizontal line at y=0 in Residuals vs Leverage plot to\n",
    "            match the plots in R package ggfortify and base R.\n",
    "        (4) Added option for placing a vertical guideline on the Residuals\n",
    "            vs Leverage plot using the rule of thumb of h = 2p/n to denote\n",
    "            high leverage (high_leverage_threshold=True).\n",
    "        (5) Added two more ways to compute the Cook's Distance (D) threshold:\n",
    "            * 'baseR': D > 1 and D > 0.5 (default)\n",
    "            * 'convention': D > 4/n\n",
    "            * 'dof': D > 4 / (n - k - 1)\n",
    "        (6) Fixed class name to conform to Pascal casing convention\n",
    "        (7) Fixed Residuals vs Leverage legend to work with loc='best'\n",
    "    \"\"\"\n",
    "\n",
    "    def __init__(self,\n",
    "                 results: Type[statsmodels.regression.linear_model.RegressionResultsWrapper]) -> None:\n",
    "        \"\"\"\n",
    "        For a linear regression model, generates following diagnostic plots:\n",
    "\n",
    "        a. residual\n",
    "        b. qq\n",
    "        c. scale location and\n",
    "        d. leverage\n",
    "\n",
    "        and a table\n",
    "\n",
    "        e. vif\n",
    "\n",
    "        Args:\n",
    "            results (Type[statsmodels.regression.linear_model.RegressionResultsWrapper]):\n",
    "                must be instance of statsmodels.regression.linear_model object\n",
    "\n",
    "        Raises:\n",
    "            TypeError: if instance does not belong to above object\n",
    "\n",
    "        Example:\n",
    "        >>> import numpy as np\n",
    "        >>> import pandas as pd\n",
    "        >>> import statsmodels.formula.api as smf\n",
    "        >>> x = np.linspace(-np.pi, np.pi, 100)\n",
    "        >>> y = 3*x + 8 + np.random.normal(0,1, 100)\n",
    "        >>> df = pd.DataFrame({'x':x, 'y':y})\n",
    "        >>> res = smf.ols(formula= \"y ~ x\", data=df).fit()\n",
    "        >>> cls = Linear_Reg_Diagnostic(res)\n",
    "        >>> cls(plot_context=\"seaborn-v0_8-paper\")\n",
    "\n",
    "        In case you do not need all plots you can also independently make an individual plot/table\n",
    "        in following ways\n",
    "\n",
    "        >>> cls = Linear_Reg_Diagnostic(res)\n",
    "        >>> cls.residual_plot()\n",
    "        >>> cls.qq_plot()\n",
    "        >>> cls.scale_location_plot()\n",
    "        >>> cls.leverage_plot()\n",
    "        >>> cls.vif_table()\n",
    "        \"\"\"\n",
    "\n",
    "        if isinstance(results, statsmodels.regression.linear_model.RegressionResultsWrapper) is False:\n",
    "            raise TypeError(\"result must be instance of statsmodels.regression.linear_model.RegressionResultsWrapper object\")\n",
    "\n",
    "        self.results = maybe_unwrap_results(results)\n",
    "\n",
    "        self.y_true = self.results.model.endog\n",
    "        self.y_predict = self.results.fittedvalues\n",
    "        self.xvar = self.results.model.exog\n",
    "        self.xvar_names = self.results.model.exog_names\n",
    "\n",
    "        self.residual = np.array(self.results.resid)\n",
    "        influence = self.results.get_influence()\n",
    "        self.residual_norm = influence.resid_studentized_internal\n",
    "        self.leverage = influence.hat_matrix_diag\n",
    "        self.cooks_distance = influence.cooks_distance[0]\n",
    "        self.nparams = len(self.results.params)\n",
    "        self.nresids = len(self.residual_norm)\n",
    "\n",
    "    def __call__(self, plot_context='seaborn-v0_8-paper', **kwargs):\n",
    "        # print(plt.style.available)\n",
    "        with plt.style.context(plot_context):\n",
    "            fig, ax = plt.subplots(nrows=2, ncols=2, figsize=(10,10))\n",
    "            self.residual_plot(ax=ax[0,0])\n",
    "            self.qq_plot(ax=ax[0,1])\n",
    "            self.scale_location_plot(ax=ax[1,0])\n",
    "            self.leverage_plot(\n",
    "                ax=ax[1,1],\n",
    "                high_leverage_threshold = kwargs.get('high_leverage_threshold'),\n",
    "                cooks_threshold = kwargs.get('cooks_threshold'))\n",
    "            plt.show()\n",
    "\n",
    "        return self.vif_table(), fig, ax,\n",
    "\n",
    "    def residual_plot(self, ax=None):\n",
    "        \"\"\"\n",
    "        Residual vs Fitted Plot\n",
    "\n",
    "        Graphical tool to identify non-linearity.\n",
    "        (Roughly) Horizontal red line is an indicator that the residual has a linear pattern\n",
    "        \"\"\"\n",
    "        if ax is None:\n",
    "            fig, ax = plt.subplots()\n",
    "\n",
    "        sns.residplot(\n",
    "            x=self.y_predict,\n",
    "            y=self.residual,\n",
    "            lowess=True,\n",
    "            scatter_kws={'alpha': 0.5},\n",
    "            line_kws={'color': 'red', 'lw': 1, 'alpha': 0.8},\n",
    "            ax=ax)\n",
    "\n",
    "        # annotations\n",
    "        residual_abs = np.abs(self.residual)\n",
    "        abs_resid = np.flip(np.argsort(residual_abs), 0)\n",
    "        abs_resid_top_3 = abs_resid[:3]\n",
    "        for i in abs_resid_top_3:\n",
    "            ax.annotate(\n",
    "                i,\n",
    "                xy=(self.y_predict[i], self.residual[i]),\n",
    "                color='C3')\n",
    "\n",
    "        ax.set_title('Residuals vs Fitted', fontweight=\"bold\")\n",
    "        ax.set_xlabel('Fitted values')\n",
    "        ax.set_ylabel('Residuals')\n",
    "        return ax\n",
    "\n",
    "    def qq_plot(self, ax=None):\n",
    "        \"\"\"\n",
    "        Standarized Residual vs Theoretical Quantile plot\n",
    "\n",
    "        Used to visually check if residuals are normally distributed.\n",
    "        Points spread along the diagonal line will suggest so.\n",
    "        \"\"\"\n",
    "        if ax is None:\n",
    "            fig, ax = plt.subplots()\n",
    "\n",
    "        QQ = ProbPlot(self.residual_norm)\n",
    "        fig = QQ.qqplot(line='45', alpha=0.5, lw=1, ax=ax)\n",
    "\n",
    "        # annotations\n",
    "        abs_norm_resid = np.flip(np.argsort(np.abs(self.residual_norm)), 0)\n",
    "        abs_norm_resid_top_3 = abs_norm_resid[:3]\n",
    "        for i, x, y in self.__qq_top_resid(QQ.theoretical_quantiles, abs_norm_resid_top_3):\n",
    "            ax.annotate(\n",
    "                i,\n",
    "                xy=(x, y),\n",
    "                ha='right',\n",
    "                color='C3')\n",
    "\n",
    "        ax.set_title('Normal Q-Q', fontweight=\"bold\")\n",
    "        ax.set_xlabel('Theoretical Quantiles')\n",
    "        ax.set_ylabel('Standardized Residuals')\n",
    "        return ax\n",
    "\n",
    "    def scale_location_plot(self, ax=None):\n",
    "        \"\"\"\n",
    "        Sqrt(Standarized Residual) vs Fitted values plot\n",
    "\n",
    "        Used to check homoscedasticity of the residuals.\n",
    "        Horizontal line will suggest so.\n",
    "        \"\"\"\n",
    "        if ax is None:\n",
    "            fig, ax = plt.subplots()\n",
    "\n",
    "        residual_norm_abs_sqrt = np.sqrt(np.abs(self.residual_norm))\n",
    "\n",
    "        ax.scatter(self.y_predict, residual_norm_abs_sqrt, alpha=0.5);\n",
    "        sns.regplot(\n",
    "            x=self.y_predict,\n",
    "            y=residual_norm_abs_sqrt,\n",
    "            scatter=False, ci=False,\n",
    "            lowess=True,\n",
    "            line_kws={'color': 'red', 'lw': 1, 'alpha': 0.8},\n",
    "            ax=ax)\n",
    "\n",
    "        # annotations\n",
    "        abs_sq_norm_resid = np.flip(np.argsort(residual_norm_abs_sqrt), 0)\n",
    "        abs_sq_norm_resid_top_3 = abs_sq_norm_resid[:3]\n",
    "        for i in abs_sq_norm_resid_top_3:\n",
    "            ax.annotate(\n",
    "                i,\n",
    "                xy=(self.y_predict[i], residual_norm_abs_sqrt[i]),\n",
    "                color='C3')\n",
    "\n",
    "        ax.set_title('Scale-Location', fontweight=\"bold\")\n",
    "        ax.set_xlabel('Fitted values')\n",
    "        ax.set_ylabel(r'$\\sqrt{|\\mathrm{Standardized\\ Residuals}|}$');\n",
    "        return ax\n",
    "\n",
    "    def leverage_plot(self, ax=None, high_leverage_threshold=False, cooks_threshold='baseR'):\n",
    "        \"\"\"\n",
    "        Residual vs Leverage plot\n",
    "\n",
    "        Points falling outside Cook's distance curves are considered observation that can sway the fit\n",
    "        aka are influential.\n",
    "        Good to have none outside the curves.\n",
    "        \"\"\"\n",
    "        if ax is None:\n",
    "            fig, ax = plt.subplots()\n",
    "\n",
    "        ax.scatter(\n",
    "            self.leverage,\n",
    "            self.residual_norm,\n",
    "            alpha=0.5);\n",
    "\n",
    "        sns.regplot(\n",
    "            x=self.leverage,\n",
    "            y=self.residual_norm,\n",
    "            scatter=False,\n",
    "            ci=False,\n",
    "            lowess=True,\n",
    "            line_kws={'color': 'red', 'lw': 1, 'alpha': 0.8},\n",
    "            ax=ax)\n",
    "\n",
    "        # annotations\n",
    "        leverage_top_3 = np.flip(np.argsort(self.cooks_distance), 0)[:3]\n",
    "        for i in leverage_top_3:\n",
    "            ax.annotate(\n",
    "                i,\n",
    "                xy=(self.leverage[i], self.residual_norm[i]),\n",
    "                color = 'C3')\n",
    "\n",
    "        factors = []\n",
    "        if cooks_threshold == 'baseR' or cooks_threshold is None:\n",
    "            factors = [1, 0.5]\n",
    "        elif cooks_threshold == 'convention':\n",
    "            factors = [4/self.nresids]\n",
    "        elif cooks_threshold == 'dof':\n",
    "            factors = [4/ (self.nresids - self.nparams)]\n",
    "        else:\n",
    "            raise ValueError(\"threshold_method must be one of the following: 'convention', 'dof', or 'baseR' (default)\")\n",
    "        for i, factor in enumerate(factors):\n",
    "            label = \"Cook's distance\" if i == 0 else None\n",
    "            xtemp, ytemp = self.__cooks_dist_line(factor)\n",
    "            ax.plot(xtemp, ytemp, label=label, lw=1.25, ls='--', color='red')\n",
    "            ax.plot(xtemp, np.negative(ytemp), lw=1.25, ls='--', color='red')\n",
    "\n",
    "        if high_leverage_threshold:\n",
    "            high_leverage = 2 * self.nparams / self.nresids\n",
    "            if max(self.leverage) > high_leverage:\n",
    "                ax.axvline(high_leverage, label='High leverage', ls='-.', color='purple', lw=1)\n",
    "\n",
    "        ax.axhline(0, ls='dotted', color='black', lw=1.25)\n",
    "        ax.set_xlim(0, max(self.leverage)+0.01)\n",
    "        ax.set_ylim(min(self.residual_norm)-0.1, max(self.residual_norm)+0.1)\n",
    "        ax.set_title('Residuals vs Leverage', fontweight=\"bold\")\n",
    "        ax.set_xlabel('Leverage')\n",
    "        ax.set_ylabel('Standardized Residuals')\n",
    "        plt.legend(loc='best')\n",
    "        return ax\n",
    "\n",
    "    def vif_table(self):\n",
    "        \"\"\"\n",
    "        VIF table\n",
    "\n",
    "        VIF, the variance inflation factor, is a measure of multicollinearity.\n",
    "        VIF > 5 for a variable indicates that it is highly collinear with the\n",
    "        other input variables.\n",
    "        \"\"\"\n",
    "        vif_df = pd.DataFrame()\n",
    "        vif_df[\"Features\"] = self.xvar_names\n",
    "        vif_df[\"VIF Factor\"] = [variance_inflation_factor(self.xvar, i) for i in range(self.xvar.shape[1])]\n",
    "\n",
    "        return (vif_df\n",
    "                .sort_values(\"VIF Factor\")\n",
    "                .round(2))\n",
    "\n",
    "\n",
    "    def __cooks_dist_line(self, factor):\n",
    "        \"\"\"\n",
    "        Helper function for plotting Cook's distance curves\n",
    "        \"\"\"\n",
    "        p = self.nparams\n",
    "        formula = lambda x: np.sqrt((factor * p * (1 - x)) / x)\n",
    "        x = np.linspace(0.001, max(self.leverage), 50)\n",
    "        y = formula(x)\n",
    "        return x, y\n",
    "\n",
    "\n",
    "    def __qq_top_resid(self, quantiles, top_residual_indices):\n",
    "        \"\"\"\n",
    "        Helper generator function yielding the index and coordinates\n",
    "        \"\"\"\n",
    "        offset = 0\n",
    "        quant_index = 0\n",
    "        previous_is_negative = None\n",
    "        for resid_index in top_residual_indices:\n",
    "            y = self.residual_norm[resid_index]\n",
    "            is_negative = y < 0\n",
    "            if previous_is_negative == None or previous_is_negative == is_negative:\n",
    "                offset += 1\n",
    "            else:\n",
    "                quant_index -= offset\n",
    "            x = quantiles[quant_index] if is_negative else np.flip(quantiles, 0)[quant_index]\n",
    "            quant_index += 1\n",
    "            previous_is_negative = is_negative\n",
    "            yield resid_index, x, y"
   ]
  },
  {
   "cell_type": "markdown",
   "id": "d6557de5-7849-45c5-9496-50f7b0e8772e",
   "metadata": {
    "tags": []
   },
   "source": [
    "\n",
    "# Input data\n",
    "\n",
    "In this assignment, you will work with a dataset that contains 200 samples, 10 features x_1,,x_{10} and one dependent variable y. Your general task is to develop the best possible linear model. One that is both simple and interpretable while still performing well. You are expected to correctly interpret the model. Assume that outliers are not expected, and our primary focus is on identifying common trends rather than a few exceptional samples.\n"
   ]
  },
  {
   "cell_type": "code",
   "execution_count": 3,
   "id": "26f38510-79da-4dbe-9c34-5d7c8aeb1227",
   "metadata": {},
   "outputs": [],
   "source": [
    "data = pd.read_csv(\"lreg_data.csv\")\n",
    "n_samples = len(data)"
   ]
  },
  {
   "cell_type": "code",
   "execution_count": 4,
   "id": "03d32072",
   "metadata": {},
   "outputs": [
    {
     "data": {
      "application/vnd.microsoft.datawrangler.viewer.v0+json": {
       "columns": [
        {
         "name": "index",
         "rawType": "int64",
         "type": "integer"
        },
        {
         "name": "x1",
         "rawType": "float64",
         "type": "float"
        },
        {
         "name": "x2",
         "rawType": "float64",
         "type": "float"
        },
        {
         "name": "x3",
         "rawType": "float64",
         "type": "float"
        },
        {
         "name": "x4",
         "rawType": "float64",
         "type": "float"
        },
        {
         "name": "x5",
         "rawType": "float64",
         "type": "float"
        },
        {
         "name": "x6",
         "rawType": "float64",
         "type": "float"
        },
        {
         "name": "x7",
         "rawType": "float64",
         "type": "float"
        },
        {
         "name": "x8",
         "rawType": "float64",
         "type": "float"
        },
        {
         "name": "x9",
         "rawType": "float64",
         "type": "float"
        },
        {
         "name": "x10",
         "rawType": "float64",
         "type": "float"
        },
        {
         "name": "y",
         "rawType": "float64",
         "type": "float"
        }
       ],
       "ref": "cbe33e6d-d65d-48f3-8d98-1abcf043f118",
       "rows": [
        [
         "0",
         "104.927459553406",
         "90.8016730188185",
         "8.24597075323677",
         "14.4186210914006",
         "48.3082785725795",
         "7.06551032067016",
         "61.3459837203018",
         "60.2402710024141",
         "36.0566240081225",
         "-58.9764702633881",
         "135.749789742706"
        ],
        [
         "1",
         "106.064620608218",
         "131.374488757257",
         "18.8721515707225",
         "2.00597759025861",
         "66.8080025119495",
         "2.1086182178403",
         "54.0985200420363",
         "51.7153213883362",
         "34.6483222505738",
         "-65.3197619024655",
         "256.367205873757"
        ],
        [
         "2",
         "80.7041755617945",
         "93.4450310058061",
         "14.3906144222486",
         "6.55989251226385",
         "40.7303445562402",
         "4.96785259727908",
         "42.048619611398",
         "63.0907432768377",
         "39.5349032028495",
         "-72.9564518233251",
         "145.465889337479"
        ],
        [
         "3",
         "106.652376053318",
         "64.3808126974617",
         "2.80606135229174",
         "11.121179598656",
         "38.9832999103924",
         "3.95139513942378",
         "71.8213743218418",
         "61.6433587981332",
         "31.7583591532435",
         "-41.6040327738326",
         "74.8878619951728"
        ],
        [
         "4",
         "110.257915443204",
         "129.2409033953",
         "19.0946294785982",
         "-1.84053091036788",
         "64.7208086421059",
         "7.01181719830414",
         "46.7509699474198",
         "62.0224966087753",
         "41.0547720929188",
         "-50.1131793909292",
         "265.90375589441"
        ]
       ],
       "shape": {
        "columns": 11,
        "rows": 5
       }
      },
      "text/html": [
       "<div>\n",
       "<style scoped>\n",
       "    .dataframe tbody tr th:only-of-type {\n",
       "        vertical-align: middle;\n",
       "    }\n",
       "\n",
       "    .dataframe tbody tr th {\n",
       "        vertical-align: top;\n",
       "    }\n",
       "\n",
       "    .dataframe thead th {\n",
       "        text-align: right;\n",
       "    }\n",
       "</style>\n",
       "<table border=\"1\" class=\"dataframe\">\n",
       "  <thead>\n",
       "    <tr style=\"text-align: right;\">\n",
       "      <th></th>\n",
       "      <th>x1</th>\n",
       "      <th>x2</th>\n",
       "      <th>x3</th>\n",
       "      <th>x4</th>\n",
       "      <th>x5</th>\n",
       "      <th>x6</th>\n",
       "      <th>x7</th>\n",
       "      <th>x8</th>\n",
       "      <th>x9</th>\n",
       "      <th>x10</th>\n",
       "      <th>y</th>\n",
       "    </tr>\n",
       "  </thead>\n",
       "  <tbody>\n",
       "    <tr>\n",
       "      <th>0</th>\n",
       "      <td>104.927460</td>\n",
       "      <td>90.801673</td>\n",
       "      <td>8.245971</td>\n",
       "      <td>14.418621</td>\n",
       "      <td>48.308279</td>\n",
       "      <td>7.065510</td>\n",
       "      <td>61.345984</td>\n",
       "      <td>60.240271</td>\n",
       "      <td>36.056624</td>\n",
       "      <td>-58.976470</td>\n",
       "      <td>135.749790</td>\n",
       "    </tr>\n",
       "    <tr>\n",
       "      <th>1</th>\n",
       "      <td>106.064621</td>\n",
       "      <td>131.374489</td>\n",
       "      <td>18.872152</td>\n",
       "      <td>2.005978</td>\n",
       "      <td>66.808003</td>\n",
       "      <td>2.108618</td>\n",
       "      <td>54.098520</td>\n",
       "      <td>51.715321</td>\n",
       "      <td>34.648322</td>\n",
       "      <td>-65.319762</td>\n",
       "      <td>256.367206</td>\n",
       "    </tr>\n",
       "    <tr>\n",
       "      <th>2</th>\n",
       "      <td>80.704176</td>\n",
       "      <td>93.445031</td>\n",
       "      <td>14.390614</td>\n",
       "      <td>6.559893</td>\n",
       "      <td>40.730345</td>\n",
       "      <td>4.967853</td>\n",
       "      <td>42.048620</td>\n",
       "      <td>63.090743</td>\n",
       "      <td>39.534903</td>\n",
       "      <td>-72.956452</td>\n",
       "      <td>145.465889</td>\n",
       "    </tr>\n",
       "    <tr>\n",
       "      <th>3</th>\n",
       "      <td>106.652376</td>\n",
       "      <td>64.380813</td>\n",
       "      <td>2.806061</td>\n",
       "      <td>11.121180</td>\n",
       "      <td>38.983300</td>\n",
       "      <td>3.951395</td>\n",
       "      <td>71.821374</td>\n",
       "      <td>61.643359</td>\n",
       "      <td>31.758359</td>\n",
       "      <td>-41.604033</td>\n",
       "      <td>74.887862</td>\n",
       "    </tr>\n",
       "    <tr>\n",
       "      <th>4</th>\n",
       "      <td>110.257915</td>\n",
       "      <td>129.240903</td>\n",
       "      <td>19.094629</td>\n",
       "      <td>-1.840531</td>\n",
       "      <td>64.720809</td>\n",
       "      <td>7.011817</td>\n",
       "      <td>46.750970</td>\n",
       "      <td>62.022497</td>\n",
       "      <td>41.054772</td>\n",
       "      <td>-50.113179</td>\n",
       "      <td>265.903756</td>\n",
       "    </tr>\n",
       "  </tbody>\n",
       "</table>\n",
       "</div>"
      ],
      "text/plain": [
       "           x1          x2         x3         x4         x5        x6  \\\n",
       "0  104.927460   90.801673   8.245971  14.418621  48.308279  7.065510   \n",
       "1  106.064621  131.374489  18.872152   2.005978  66.808003  2.108618   \n",
       "2   80.704176   93.445031  14.390614   6.559893  40.730345  4.967853   \n",
       "3  106.652376   64.380813   2.806061  11.121180  38.983300  3.951395   \n",
       "4  110.257915  129.240903  19.094629  -1.840531  64.720809  7.011817   \n",
       "\n",
       "          x7         x8         x9        x10           y  \n",
       "0  61.345984  60.240271  36.056624 -58.976470  135.749790  \n",
       "1  54.098520  51.715321  34.648322 -65.319762  256.367206  \n",
       "2  42.048620  63.090743  39.534903 -72.956452  145.465889  \n",
       "3  71.821374  61.643359  31.758359 -41.604033   74.887862  \n",
       "4  46.750970  62.022497  41.054772 -50.113179  265.903756  "
      ]
     },
     "execution_count": 4,
     "metadata": {},
     "output_type": "execute_result"
    }
   ],
   "source": [
    "data.head()"
   ]
  },
  {
   "cell_type": "markdown",
   "id": "b73f39dd-ec36-496a-a258-64288cf426ad",
   "metadata": {},
   "source": [
    "# The full linear model\n",
    "Let us start with a full linear model. The first task is to evaluate the model based on its fisrt summary. Then, check its assumptions and detect its potential issues. Your task is to evaluate the plots and tests performed below, you should also further develop them (propose their alternatives).  \n"
   ]
  },
  {
   "cell_type": "code",
   "execution_count": 5,
   "id": "171b8290-bc5b-4a64-b45e-45bb95beafc6",
   "metadata": {},
   "outputs": [
    {
     "name": "stdout",
     "output_type": "stream",
     "text": [
      "                            OLS Regression Results                            \n",
      "==============================================================================\n",
      "Dep. Variable:                      y   R-squared:                       0.580\n",
      "Model:                            OLS   Adj. R-squared:                  0.558\n",
      "Method:                 Least Squares   F-statistic:                     26.13\n",
      "Date:                Sun, 19 Oct 2025   Prob (F-statistic):           1.00e-30\n",
      "Time:                        19:40:05   Log-Likelihood:                -1061.7\n",
      "No. Observations:                 200   AIC:                             2145.\n",
      "Df Residuals:                     189   BIC:                             2182.\n",
      "Df Model:                          10                                         \n",
      "Covariance Type:            nonrobust                                         \n",
      "==============================================================================\n",
      "                 coef    std err          t      P>|t|      [0.025      0.975]\n",
      "------------------------------------------------------------------------------\n",
      "Intercept    148.6082     51.087      2.909      0.004      47.834     249.382\n",
      "x1            -0.3404      0.366     -0.929      0.354      -1.063       0.382\n",
      "x2             0.5223      0.260      2.010      0.046       0.010       1.035\n",
      "x3            -0.4873      0.653     -0.746      0.457      -1.776       0.801\n",
      "x4            -2.5976      0.757     -3.429      0.001      -4.092      -1.103\n",
      "x5             1.1959      0.505      2.366      0.019       0.199       2.193\n",
      "x6            -0.3778      1.861     -0.203      0.839      -4.049       3.294\n",
      "x7            -0.0174      0.239     -0.073      0.942      -0.489       0.454\n",
      "x8            -0.6565      0.440     -1.491      0.138      -1.525       0.212\n",
      "x9             1.3295      0.511      2.603      0.010       0.322       2.337\n",
      "x10            1.0228      0.234      4.367      0.000       0.561       1.485\n",
      "==============================================================================\n",
      "Omnibus:                       44.211   Durbin-Watson:                   2.238\n",
      "Prob(Omnibus):                  0.000   Jarque-Bera (JB):              138.748\n",
      "Skew:                          -0.873   Prob(JB):                     7.43e-31\n",
      "Kurtosis:                       6.688   Cond. No.                     2.72e+03\n",
      "==============================================================================\n",
      "\n",
      "Notes:\n",
      "[1] Standard Errors assume that the covariance matrix of the errors is correctly specified.\n",
      "[2] The condition number is large, 2.72e+03. This might indicate that there are\n",
      "strong multicollinearity or other numerical problems.\n"
     ]
    }
   ],
   "source": [
    "full_lm = smf.ols('y ~ x1 + x2 + x3 + x4 + x5 + x6 + x7 + x8 + x9 + x10', data=data).fit()\n",
    "print(full_lm.summary())"
   ]
  },
  {
   "cell_type": "code",
   "execution_count": 6,
   "id": "0b168110-9fe1-434a-89c0-3aa6a1266871",
   "metadata": {},
   "outputs": [
    {
     "data": {
      "text/plain": [
       "<Axes: title={'center': 'Residuals vs Fitted'}, xlabel='Fitted values', ylabel='Residuals'>"
      ]
     },
     "execution_count": 6,
     "metadata": {},
     "output_type": "execute_result"
    },
    {
     "data": {
      "image/png": "[encoded data removed]",
      "text/plain": [
       "<Figure size 640x480 with 1 Axes>"
      ]
     },
     "metadata": {},
     "output_type": "display_data"
    }
   ],
   "source": [
    "# Residual plot\n",
    "lm_diag = LinearRegDiagnostic(full_lm)\n",
    "lm_diag.residual_plot()"
   ]
  },
  {
   "cell_type": "code",
   "execution_count": 7,
   "id": "729fc8ea-5b58-43d2-bf5d-e451a8eb483d",
   "metadata": {},
   "outputs": [
    {
     "name": "stdout",
     "output_type": "stream",
     "text": [
      "Breusch-Pagan p-value: 0.00012628123768207756\n"
     ]
    }
   ],
   "source": [
    "# Homoscedasticity test\n",
    "_, pval, __, ___ = het_breuschpagan(full_lm.resid, full_lm.model.exog)\n",
    "print(f\"Breusch-Pagan p-value: {pval}\")"
   ]
  },
  {
   "cell_type": "code",
   "execution_count": 8,
   "id": "21a89fc5-83ca-4a11-ab01-1b84cd03ac2a",
   "metadata": {},
   "outputs": [
    {
     "data": {
      "text/plain": [
       "<Axes: title={'center': 'Normal Q-Q'}, xlabel='Theoretical Quantiles', ylabel='Standardized Residuals'>"
      ]
     },
     "execution_count": 8,
     "metadata": {},
     "output_type": "execute_result"
    },
    {
     "data": {
      "image/png": "[encoded data removed]",
      "text/plain": [
       "<Figure size 640x480 with 1 Axes>"
      ]
     },
     "metadata": {},
     "output_type": "display_data"
    }
   ],
   "source": [
    "# Normality of residuals - Q-Q plot and Shapiro-Wilk test\n",
    "lm_diag.qq_plot()"
   ]
  },
  {
   "cell_type": "code",
   "execution_count": 9,
   "id": "9f58086a-20c2-40b1-be3c-3dd36975fa76",
   "metadata": {},
   "outputs": [
    {
     "name": "stdout",
     "output_type": "stream",
     "text": [
      "ShapiroResult(statistic=np.float64(0.937453919986838), pvalue=np.float64(1.3840774364977536e-07))\n"
     ]
    }
   ],
   "source": [
    "print(shapiro(full_lm.resid))"
   ]
  },
  {
   "cell_type": "code",
   "execution_count": 10,
   "id": "04306fc6-895f-4159-afee-3d91671c952d",
   "metadata": {},
   "outputs": [
    {
     "name": "stdout",
     "output_type": "stream",
     "text": [
      "Outliers: [ 51  73  86  87  97 101 114 128 132 159 164]\n"
     ]
    },
    {
     "data": {
      "image/png": "[encoded data removed]",
      "text/plain": [
       "<Figure size 640x480 with 1 Axes>"
      ]
     },
     "metadata": {},
     "output_type": "display_data"
    }
   ],
   "source": [
    "# Outliers detection using Cook's distance\n",
    "influence = full_lm.get_influence()\n",
    "cooks_d = influence.cooks_distance[0]\n",
    "outliers = np.where(cooks_d > 4 / len(data))[0]\n",
    "print(f\"Outliers: {outliers}\")\n",
    "\n",
    "x=np.arange(n_samples)\n",
    "ax = sns.barplot(y=cooks_d, x=x)\n",
    "ax.plot(x, np.full(n_samples, 4 / len(data)), linestyle=\"dotted\", linewidth=0.5)\n",
    "for o in outliers:\n",
    "    ax.text(x[o] + 1, cooks_d[o] + 0.005, str(o))\n",
    "ax.set_xticks(range(0, 250, 50))\n",
    "plt.show()"
   ]
  },
  {
   "cell_type": "code",
   "execution_count": 11,
   "id": "9bb122ea-ddb5-4c50-b338-5d868c63332f",
   "metadata": {},
   "outputs": [
    {
     "data": {
      "application/vnd.microsoft.datawrangler.viewer.v0+json": {
       "columns": [
        {
         "name": "index",
         "rawType": "int64",
         "type": "integer"
        },
        {
         "name": "Features",
         "rawType": "object",
         "type": "string"
        },
        {
         "name": "VIF Factor",
         "rawType": "float64",
         "type": "float"
        }
       ],
       "ref": "24cbe354-37ed-4287-ac0b-4a6811613066",
       "rows": [
        [
         "6",
         "x6",
         "1.03"
        ],
        [
         "7",
         "x7",
         "1.04"
        ],
        [
         "9",
         "x9",
         "1.05"
        ],
        [
         "10",
         "x10",
         "1.05"
        ],
        [
         "1",
         "x1",
         "1.06"
        ],
        [
         "8",
         "x8",
         "1.54"
        ],
        [
         "4",
         "x4",
         "2.14"
        ],
        [
         "3",
         "x3",
         "2.42"
        ],
        [
         "5",
         "x5",
         "10.21"
        ],
        [
         "2",
         "x2",
         "10.27"
        ],
        [
         "0",
         "Intercept",
         "206.37"
        ]
       ],
       "shape": {
        "columns": 2,
        "rows": 11
       }
      },
      "text/html": [
       "<div>\n",
       "<style scoped>\n",
       "    .dataframe tbody tr th:only-of-type {\n",
       "        vertical-align: middle;\n",
       "    }\n",
       "\n",
       "    .dataframe tbody tr th {\n",
       "        vertical-align: top;\n",
       "    }\n",
       "\n",
       "    .dataframe thead th {\n",
       "        text-align: right;\n",
       "    }\n",
       "</style>\n",
       "<table border=\"1\" class=\"dataframe\">\n",
       "  <thead>\n",
       "    <tr style=\"text-align: right;\">\n",
       "      <th></th>\n",
       "      <th>Features</th>\n",
       "      <th>VIF Factor</th>\n",
       "    </tr>\n",
       "  </thead>\n",
       "  <tbody>\n",
       "    <tr>\n",
       "      <th>6</th>\n",
       "      <td>x6</td>\n",
       "      <td>1.03</td>\n",
       "    </tr>\n",
       "    <tr>\n",
       "      <th>7</th>\n",
       "      <td>x7</td>\n",
       "      <td>1.04</td>\n",
       "    </tr>\n",
       "    <tr>\n",
       "      <th>9</th>\n",
       "      <td>x9</td>\n",
       "      <td>1.05</td>\n",
       "    </tr>\n",
       "    <tr>\n",
       "      <th>10</th>\n",
       "      <td>x10</td>\n",
       "      <td>1.05</td>\n",
       "    </tr>\n",
       "    <tr>\n",
       "      <th>1</th>\n",
       "      <td>x1</td>\n",
       "      <td>1.06</td>\n",
       "    </tr>\n",
       "    <tr>\n",
       "      <th>8</th>\n",
       "      <td>x8</td>\n",
       "      <td>1.54</td>\n",
       "    </tr>\n",
       "    <tr>\n",
       "      <th>4</th>\n",
       "      <td>x4</td>\n",
       "      <td>2.14</td>\n",
       "    </tr>\n",
       "    <tr>\n",
       "      <th>3</th>\n",
       "      <td>x3</td>\n",
       "      <td>2.42</td>\n",
       "    </tr>\n",
       "    <tr>\n",
       "      <th>5</th>\n",
       "      <td>x5</td>\n",
       "      <td>10.21</td>\n",
       "    </tr>\n",
       "    <tr>\n",
       "      <th>2</th>\n",
       "      <td>x2</td>\n",
       "      <td>10.27</td>\n",
       "    </tr>\n",
       "    <tr>\n",
       "      <th>0</th>\n",
       "      <td>Intercept</td>\n",
       "      <td>206.37</td>\n",
       "    </tr>\n",
       "  </tbody>\n",
       "</table>\n",
       "</div>"
      ],
      "text/plain": [
       "     Features  VIF Factor\n",
       "6          x6        1.03\n",
       "7          x7        1.04\n",
       "9          x9        1.05\n",
       "10        x10        1.05\n",
       "1          x1        1.06\n",
       "8          x8        1.54\n",
       "4          x4        2.14\n",
       "3          x3        2.42\n",
       "5          x5       10.21\n",
       "2          x2       10.27\n",
       "0   Intercept      206.37"
      ]
     },
     "execution_count": 11,
     "metadata": {},
     "output_type": "execute_result"
    }
   ],
   "source": [
    "# Variance Inflation Factor for multicollinearity detection\n",
    "lm_diag.vif_table()"
   ]
  },
  {
   "cell_type": "markdown",
   "id": "142009c0-916f-43a2-960c-9ed442b555c3",
   "metadata": {},
   "source": [
    "### **Add your verbal summary here (1p)**:"
   ]
  },
  {
   "cell_type": "markdown",
   "id": "526601e2",
   "metadata": {},
   "source": [
    "### **Model summary**\n",
    "The full linear regression model explains approximately 58% of the variance in the response variable (R² = 0.580, adjusted R² = 0.558). The overall F-statistic (26.13, p < 1e-30) indicates that at least one predictor significantly contributes to the model and suggesting a significant relationship between predictors and the outcome.\n",
    "\n",
    "#### **Assamption checks**\n",
    "**Linearity** <br>\n",
    "Residuals plot: shows visible patterns, suggesting non-linearity.<br>\n",
    "**Independence of errors**<br>\n",
    "Not tested<br>\n",
    "**Normality of residuals**<br>\n",
    "QQ plot: deviations from the diagonal suggesting non-normality of residuals.<br>\n",
    "Shapiro–Wilk test: p-value = 1.38e-07 which suggests residuals are not normally distributed.<br>\n",
    "**Homoscedasticity**<br>\n",
    "Breusch–Pagan test: p-value = 0.00013 which suggests residuals are heteroscedastic.<br>\n",
    "**Multicollinearity**<br>\n",
    "Variables x2 (VIF = 10.27) and x5 (VIF = 10.21) exceed the common threshold of 10 which indicating high multicollinearity.<br>\n",
    "**Influential points**<br>\n",
    "The most influential points are observations 73, 97, and 101, with Cook’s distance values around 0.75–1.75, suggesting removing.<br>\n",
    "\n",
    "#### **Conclusion**\n",
    "Although the model explains a moderate amount of variance (58%), the presence of heteroscedasticity (Breusch–Pagan test), non-normal residuals (QQ plot and Shapiro-Wilk test), and multicollinearity (Variance Inflation Factor method) indicates that the model violates several linear regression assumptions and should be improved.\n",
    "\n",
    "#### **Suggested improvements**\n",
    "1. Removing predictors with high multicollinearity (x2 and x5).\n",
    "2. Simplify the model by removing predictors with high p-values; with only 10 predictors, the expected false rejection rate (≈0.5) remains acceptably low.\n",
    "3. Removing the most influation points.\n"
   ]
  },
  {
   "cell_type": "markdown",
   "id": "919755b5-be5a-40a7-a508-0aa318405932",
   "metadata": {},
   "source": [
    "# Remove the issues from the full model\n",
    "\n",
    "Now deal with the detected issues. Build an alternative model and show that it works better than the full model. Finally, verbally justify all the decisions that you made and explain their effects."
   ]
  },
  {
   "cell_type": "code",
   "execution_count": 12,
   "id": "61b41df6",
   "metadata": {},
   "outputs": [],
   "source": [
    "# Indices of influential observations\n",
    "influential_points = [51, 73, 86, 87, 97, 101, 114, 128, 132, 159, 164] \n",
    "# Remove them from the dataset\n",
    "data_cleaned = data.drop(index=influential_points).reset_index(drop=True)\n",
    "n_sample_cleaned = len(data_cleaned)"
   ]
  },
  {
   "cell_type": "code",
   "execution_count": 13,
   "id": "0b87a3c8-fbd1-44de-9157-80430faacb91",
   "metadata": {},
   "outputs": [
    {
     "name": "stdout",
     "output_type": "stream",
     "text": [
      "                            OLS Regression Results                            \n",
      "==============================================================================\n",
      "Dep. Variable:                      y   R-squared:                       0.711\n",
      "Model:                            OLS   Adj. R-squared:                  0.704\n",
      "Method:                 Least Squares   F-statistic:                     90.21\n",
      "Date:                Sun, 19 Oct 2025   Prob (F-statistic):           1.69e-47\n",
      "Time:                        19:40:06   Log-Likelihood:                -934.67\n",
      "No. Observations:                 189   AIC:                             1881.\n",
      "Df Residuals:                     183   BIC:                             1901.\n",
      "Df Model:                           5                                         \n",
      "Covariance Type:            nonrobust                                         \n",
      "==============================================================================\n",
      "                 coef    std err          t      P>|t|      [0.025      0.975]\n",
      "------------------------------------------------------------------------------\n",
      "Intercept     90.0745     37.226      2.420      0.017      16.627     163.522\n",
      "x1            -0.4506      0.257     -1.751      0.082      -0.958       0.057\n",
      "x3             3.2427      0.413      7.845      0.000       2.427       4.058\n",
      "x5             2.0941      0.116     18.128      0.000       1.866       2.322\n",
      "x8            -1.2046      0.383     -3.143      0.002      -1.961      -0.448\n",
      "x9             0.6999      0.365      1.917      0.057      -0.020       1.420\n",
      "==============================================================================\n",
      "Omnibus:                        4.311   Durbin-Watson:                   2.085\n",
      "Prob(Omnibus):                  0.116   Jarque-Bera (JB):                3.946\n",
      "Skew:                          -0.283   Prob(JB):                        0.139\n",
      "Kurtosis:                       3.425   Cond. No.                     1.98e+03\n",
      "==============================================================================\n",
      "\n",
      "Notes:\n",
      "[1] Standard Errors assume that the covariance matrix of the errors is correctly specified.\n",
      "[2] The condition number is large, 1.98e+03. This might indicate that there are\n",
      "strong multicollinearity or other numerical problems.\n"
     ]
    }
   ],
   "source": [
    "#### add your code here (1p) ####\n",
    "\n",
    "# Remove predictors\n",
    "# reduced_lm = smf.ols(\"y ~ x1 + x2 + x3 + x4 + x6 + x7 + x8 + x9 + x10\", data=data_cleaned).fit()\n",
    "# reduced_lm = smf.ols(\"y ~ x1 + x3 + x4 + x5 + x6 + x7 + x8 + x9 + x10\", data=data_cleaned).fit() # adj. r-square 0.699\n",
    "# reduced_lm = smf.ols(\"y ~ x1 + x3 + x5 + x6 + x7 + x8 + x9 + x10\", data=data_cleaned).fit() # adj. r-square 0.701\n",
    "# reduced_lm = smf.ols(\"y ~ x1 + x3 + x5 + x6 + x8 + x9 + x10\", data=data_cleaned).fit() # adj. r-square 0.702\n",
    "reduced_lm = smf.ols(\"y ~ x1 + x3 + x5 + x8 + x9\", data=data_cleaned).fit() # adj. r-square 0.704\n",
    "print(reduced_lm.summary())"
   ]
  },
  {
   "cell_type": "code",
   "execution_count": 14,
   "id": "baadf040-c94e-4d46-a159-495c487d8716",
   "metadata": {},
   "outputs": [
    {
     "data": {
      "text/plain": [
       "<Axes: title={'center': 'Residuals vs Fitted'}, xlabel='Fitted values', ylabel='Residuals'>"
      ]
     },
     "execution_count": 14,
     "metadata": {},
     "output_type": "execute_result"
    },
    {
     "data": {
      "image/png": "[encoded data removed]",
      "text/plain": [
       "<Figure size 640x480 with 1 Axes>"
      ]
     },
     "metadata": {},
     "output_type": "display_data"
    }
   ],
   "source": [
    "lm_diag_red_lm = LinearRegDiagnostic(reduced_lm)\n",
    "lm_diag_red_lm.residual_plot()"
   ]
  },
  {
   "cell_type": "code",
   "execution_count": 15,
   "id": "80dc598d",
   "metadata": {},
   "outputs": [
    {
     "name": "stdout",
     "output_type": "stream",
     "text": [
      "Breusch-Pagan p-value: 3.865554613731106e-06\n"
     ]
    }
   ],
   "source": [
    "_, pval, __, ___ = het_breuschpagan(reduced_lm.resid, reduced_lm.model.exog)\n",
    "print(f\"Breusch-Pagan p-value: {pval}\")"
   ]
  },
  {
   "cell_type": "code",
   "execution_count": 16,
   "id": "e86a837c",
   "metadata": {},
   "outputs": [
    {
     "data": {
      "text/plain": [
       "<Axes: title={'center': 'Normal Q-Q'}, xlabel='Theoretical Quantiles', ylabel='Standardized Residuals'>"
      ]
     },
     "execution_count": 16,
     "metadata": {},
     "output_type": "execute_result"
    },
    {
     "data": {
      "image/png": "[encoded data removed]",
      "text/plain": [
       "<Figure size 640x480 with 1 Axes>"
      ]
     },
     "metadata": {},
     "output_type": "display_data"
    }
   ],
   "source": [
    "# Normality of residuals - Q-Q plot and Shapiro-Wilk test\n",
    "lm_diag_red_lm.qq_plot()"
   ]
  },
  {
   "cell_type": "code",
   "execution_count": 17,
   "id": "1bb08035",
   "metadata": {},
   "outputs": [
    {
     "name": "stdout",
     "output_type": "stream",
     "text": [
      "ShapiroResult(statistic=np.float64(0.9874736279637005), pvalue=np.float64(0.09313232499141251))\n"
     ]
    }
   ],
   "source": [
    "print(shapiro(reduced_lm.resid))"
   ]
  },
  {
   "cell_type": "code",
   "execution_count": 18,
   "id": "e477c5d5",
   "metadata": {},
   "outputs": [
    {
     "name": "stdout",
     "output_type": "stream",
     "text": [
      "Outliers: [  4  42  59  75  81  87  96 102 125 130 144 158 162 165 185]\n"
     ]
    },
    {
     "data": {
      "image/png": "[encoded data removed]",
      "text/plain": [
       "<Figure size 640x480 with 1 Axes>"
      ]
     },
     "metadata": {},
     "output_type": "display_data"
    }
   ],
   "source": [
    "# Outliers detection using Cook's distance\n",
    "influence = reduced_lm.get_influence()\n",
    "cooks_d = influence.cooks_distance[0]\n",
    "outliers = np.where(cooks_d > 4 / len(data_cleaned))[0]\n",
    "print(f\"Outliers: {outliers}\")\n",
    "\n",
    "x=np.arange(n_sample_cleaned)\n",
    "ax = sns.barplot(y=cooks_d, x=x)\n",
    "ax.plot(x, np.full(n_sample_cleaned, 4 / len(data_cleaned)), linestyle=\"dotted\", linewidth=0.5)\n",
    "for o in outliers:\n",
    "    ax.text(x[o] + 1, cooks_d[o] + 0.005, str(o))\n",
    "ax.set_xticks(range(0, 250, 50))\n",
    "plt.show()"
   ]
  },
  {
   "cell_type": "code",
   "execution_count": 19,
   "id": "331dac3e",
   "metadata": {},
   "outputs": [
    {
     "data": {
      "application/vnd.microsoft.datawrangler.viewer.v0+json": {
       "columns": [
        {
         "name": "index",
         "rawType": "int64",
         "type": "integer"
        },
        {
         "name": "Features",
         "rawType": "object",
         "type": "string"
        },
        {
         "name": "VIF Factor",
         "rawType": "float64",
         "type": "float"
        }
       ],
       "ref": "56e35dbc-8e18-43eb-a318-d5ca978f2799",
       "rows": [
        [
         "2",
         "x3",
         "1.01"
        ],
        [
         "4",
         "x8",
         "1.01"
        ],
        [
         "3",
         "x5",
         "1.03"
        ],
        [
         "5",
         "x9",
         "1.04"
        ],
        [
         "1",
         "x1",
         "1.04"
        ],
        [
         "0",
         "Intercept",
         "219.36"
        ]
       ],
       "shape": {
        "columns": 2,
        "rows": 6
       }
      },
      "text/html": [
       "<div>\n",
       "<style scoped>\n",
       "    .dataframe tbody tr th:only-of-type {\n",
       "        vertical-align: middle;\n",
       "    }\n",
       "\n",
       "    .dataframe tbody tr th {\n",
       "        vertical-align: top;\n",
       "    }\n",
       "\n",
       "    .dataframe thead th {\n",
       "        text-align: right;\n",
       "    }\n",
       "</style>\n",
       "<table border=\"1\" class=\"dataframe\">\n",
       "  <thead>\n",
       "    <tr style=\"text-align: right;\">\n",
       "      <th></th>\n",
       "      <th>Features</th>\n",
       "      <th>VIF Factor</th>\n",
       "    </tr>\n",
       "  </thead>\n",
       "  <tbody>\n",
       "    <tr>\n",
       "      <th>2</th>\n",
       "      <td>x3</td>\n",
       "      <td>1.01</td>\n",
       "    </tr>\n",
       "    <tr>\n",
       "      <th>4</th>\n",
       "      <td>x8</td>\n",
       "      <td>1.01</td>\n",
       "    </tr>\n",
       "    <tr>\n",
       "      <th>3</th>\n",
       "      <td>x5</td>\n",
       "      <td>1.03</td>\n",
       "    </tr>\n",
       "    <tr>\n",
       "      <th>5</th>\n",
       "      <td>x9</td>\n",
       "      <td>1.04</td>\n",
       "    </tr>\n",
       "    <tr>\n",
       "      <th>1</th>\n",
       "      <td>x1</td>\n",
       "      <td>1.04</td>\n",
       "    </tr>\n",
       "    <tr>\n",
       "      <th>0</th>\n",
       "      <td>Intercept</td>\n",
       "      <td>219.36</td>\n",
       "    </tr>\n",
       "  </tbody>\n",
       "</table>\n",
       "</div>"
      ],
      "text/plain": [
       "    Features  VIF Factor\n",
       "2         x3        1.01\n",
       "4         x8        1.01\n",
       "3         x5        1.03\n",
       "5         x9        1.04\n",
       "1         x1        1.04\n",
       "0  Intercept      219.36"
      ]
     },
     "execution_count": 19,
     "metadata": {},
     "output_type": "execute_result"
    }
   ],
   "source": [
    "# Variance Inflation Factor for multicollinearity detection\n",
    "lm_diag_red_lm.vif_table()"
   ]
  },
  {
   "cell_type": "markdown",
   "id": "ab4476ce-e1f5-48ca-bd37-8413a0552d7f",
   "metadata": {},
   "source": [
    "### **Add your verbal summary here (1p)**:"
   ]
  },
  {
   "cell_type": "markdown",
   "id": "3ef9fd9e",
   "metadata": {},
   "source": [
    "#### **Model improvements**\n",
    "- Reduced the number of predictors and removed outliers from dataset.\n",
    "- Excluded predictors with high p-values in individual t-tests and with hight VIF value.\n",
    "- Removed data points with high Cook’s distance.\n",
    "- Improved model performance: R-squared increased from 0.580 to 0.711 and adjusted R-squared from 0.558 to 0.704, explaining approximately 71% of variance.\n",
    "- Multicollinearity is no longer an issue - VIF factor of all predictors is close to 1.\n",
    "- Residual normality improved: Shapiro–Wilk p-value increased from 1.38e-07 to 0.093, indicating residuals are now approximately normally distributed; QQ-plot shows a more diagonal pattern.\n",
    "\n",
    "#### **What did not improve**\n",
    "1. Linearity: residuals plot still shows visible patterns, suggesting non-linearity\n",
    "2. Homoscedasticity: p-value went from 0.00013 to 3.87e-06 indicating residuals are still heteroscedastic. "
   ]
  },
  {
   "cell_type": "markdown",
   "id": "86a394c3-4d3f-4585-bd01-233077bdee87",
   "metadata": {},
   "source": [
    "# Feature selection\n",
    "\n",
    "Now, the goal is to run feature selection and remove irrelevant variables. Compare several different feature selection methods and pick one of them. Demonstrate that feature selection applied to the full model brings very different results than in the alternative model without issues. At the end, explain the model.\n",
    "\n",
    "\n",
    "To see, how you can achieve regularization of your model refer to [documentation](https://www.statsmodels.org/dev/generated/statsmodels.regression.linear_model.OLS.fit_regularized.html#statsmodels.regression.linear_model.OLS.fit_regularizeddocumentation).\n",
    "LASSO could be implemented, for example, by:\n",
    "```\n",
    "model = sma.OLS(endog=y, exog=X)\n",
    "fit = model.fit_regularized(alpha=a, L1_wt=1) \n",
    "```\n",
    "Note, that you need to set two parameters: alpha, but also L1_wt, which switches different kinds of regularization.\n"
   ]
  },
  {
   "cell_type": "code",
   "execution_count": 20,
   "id": "0d5a588b-6484-47d6-bb15-6f170e621a6c",
   "metadata": {},
   "outputs": [],
   "source": [
    "#### add your code here (1p) ####"
   ]
  },
  {
   "cell_type": "code",
   "execution_count": 21,
   "id": "eb24ff77",
   "metadata": {},
   "outputs": [],
   "source": [
    "def forward_selection(input_features, data):\n",
    "    features = input_features.copy()\n",
    "    final_model = []\n",
    "    final_value = float('-inf')\n",
    "\n",
    "    while True:\n",
    "        max_value = float('-inf')\n",
    "        final_feature = None\n",
    "        for feature in features:\n",
    "            temp_features = final_model.copy() + [feature]\n",
    "            model_formula = \"y ~ \" + \" + \".join(temp_features)\n",
    "            model = smf.ols(model_formula, data=data).fit()\n",
    "            curr_adj_r2 = model.rsquared_adj\n",
    "            if curr_adj_r2 > max_value:\n",
    "                max_value = curr_adj_r2\n",
    "                final_feature = feature\n",
    "        if final_feature is None or max_value < final_value:\n",
    "            break\n",
    "        final_model.append(final_feature)\n",
    "        features.remove(final_feature)\n",
    "        final_value = max_value\n",
    "\n",
    "    final_formula = \"y ~ \" + \" + \".join(final_model)\n",
    "    final_model_fit = smf.ols(final_formula, data=data).fit()\n",
    "    return final_model_fit\n",
    "\n",
    "def backward_selection(features, data):\n",
    "    final_model = features.copy()\n",
    "    final_value = float('-inf')\n",
    "\n",
    "    model_formula = \"y ~ \" + \" + \".join(features)\n",
    "    model = smf.ols(model_formula, data=data).fit()\n",
    "    curr_adj_r2 = model.rsquared_adj\n",
    "\n",
    "    if curr_adj_r2 > final_value:\n",
    "        final_value = curr_adj_r2\n",
    "\n",
    "    while True:\n",
    "        max_value = float('-inf')\n",
    "        final_feature = None\n",
    "        for feature in final_model:\n",
    "            temp_features = final_model.copy()\n",
    "            temp_features.remove(feature)\n",
    "            model_formula = \"y ~ \" + \" + \".join(temp_features)\n",
    "            model = smf.ols(model_formula, data=data).fit()\n",
    "            curr_adj_r2 = model.rsquared_adj\n",
    "            if curr_adj_r2 > max_value:\n",
    "                max_value = curr_adj_r2\n",
    "                final_feature = feature\n",
    "        if final_feature is None or max_value < final_value:\n",
    "            break\n",
    "        final_model.remove(final_feature)\n",
    "        final_value = max_value\n",
    "    \n",
    "    final_formula = \"y ~ \" + \" + \".join(final_model)\n",
    "    final_model_fit = smf.ols(final_formula, data=data).fit()\n",
    "    return final_model_fit\n"
   ]
  },
  {
   "cell_type": "code",
   "execution_count": 22,
   "id": "cb29058c",
   "metadata": {},
   "outputs": [],
   "source": [
    "from sklearn.preprocessing import StandardScaler\n",
    "from sklearn.linear_model import ElasticNetCV\n",
    "\n",
    "def lasso(data):\n",
    "    y = data[\"y\"]\n",
    "    X = data.drop(\"y\", axis=1)\n",
    "\n",
    "    # Standardize predictors\n",
    "    scaler = StandardScaler()\n",
    "    X_scaled = pd.DataFrame(scaler.fit_transform(X), columns=X.columns)\n",
    "\n",
    "    # Add constant for intercept\n",
    "    X_scaled = sm.add_constant(X_scaled)\n",
    "\n",
    "    # Choose alpha and L1_wt using cross-validation\n",
    "    elastic_cv = ElasticNetCV(\n",
    "        cv=5,\n",
    "        random_state=42,\n",
    "        l1_ratio=np.linspace(0.01, 1.0, 11),\n",
    "        alphas=100,\n",
    "        max_iter=10000\n",
    "    ).fit(X_scaled.drop(\"const\", axis=1), y)\n",
    "\n",
    "    alpha_value = elastic_cv.alpha_\n",
    "    L1_wt_value = elastic_cv.l1_ratio_\n",
    "\n",
    "    lasso_model_full = sm.OLS(y, X_scaled)\n",
    "    lasso_full_fit = lasso_model_full.fit_regularized(method='elastic_net', alpha=alpha_value, L1_wt=L1_wt_value)\n",
    "\n",
    "    params_cleaned = lasso_full_fit.params\n",
    "    selected_features_lasso = params_cleaned[params_cleaned != 0].index.tolist()\n",
    "\n",
    "    formula_from_lasso = 'y ~ ' + ' + '.join([f for f in selected_features_lasso if f != \"const\"])\n",
    "    lasso_model = smf.ols(formula_from_lasso, data=data).fit()\n",
    "\n",
    "    return lasso_model\n",
    "\n"
   ]
  },
  {
   "cell_type": "code",
   "execution_count": 23,
   "id": "18ad2b09",
   "metadata": {},
   "outputs": [
    {
     "name": "stdout",
     "output_type": "stream",
     "text": [
      "Forward selection model:\n",
      "                            OLS Regression Results                            \n",
      "==============================================================================\n",
      "Dep. Variable:                      y   R-squared:                       0.577\n",
      "Model:                            OLS   Adj. R-squared:                  0.564\n",
      "Method:                 Least Squares   F-statistic:                     43.92\n",
      "Date:                Sun, 19 Oct 2025   Prob (F-statistic):           1.35e-33\n",
      "Time:                        19:40:10   Log-Likelihood:                -1062.4\n",
      "No. Observations:                 200   AIC:                             2139.\n",
      "Df Residuals:                     193   BIC:                             2162.\n",
      "Df Model:                           6                                         \n",
      "Covariance Type:            nonrobust                                         \n",
      "==============================================================================\n",
      "                 coef    std err          t      P>|t|      [0.025      0.975]\n",
      "------------------------------------------------------------------------------\n",
      "Intercept    116.0009     35.959      3.226      0.001      45.079     186.923\n",
      "x5             1.1608      0.493      2.354      0.020       0.188       2.133\n",
      "x4            -2.2289      0.521     -4.274      0.000      -3.257      -1.200\n",
      "x10            1.0212      0.232      4.409      0.000       0.564       1.478\n",
      "x9             1.2466      0.498      2.503      0.013       0.264       2.229\n",
      "x8            -0.8277      0.359     -2.308      0.022      -1.535      -0.120\n",
      "x2             0.5461      0.252      2.165      0.032       0.049       1.044\n",
      "==============================================================================\n",
      "Omnibus:                       43.550   Durbin-Watson:                   2.225\n",
      "Prob(Omnibus):                  0.000   Jarque-Bera (JB):              131.205\n",
      "Skew:                          -0.874   Prob(JB):                     3.23e-29\n",
      "Kurtosis:                       6.562   Cond. No.                     1.56e+03\n",
      "==============================================================================\n",
      "\n",
      "Notes:\n",
      "[1] Standard Errors assume that the covariance matrix of the errors is correctly specified.\n",
      "[2] The condition number is large, 1.56e+03. This might indicate that there are\n",
      "strong multicollinearity or other numerical problems.\n",
      "\n",
      "Backward selection model:\n",
      "                            OLS Regression Results                            \n",
      "==============================================================================\n",
      "Dep. Variable:                      y   R-squared:                       0.577\n",
      "Model:                            OLS   Adj. R-squared:                  0.564\n",
      "Method:                 Least Squares   F-statistic:                     43.92\n",
      "Date:                Sun, 19 Oct 2025   Prob (F-statistic):           1.35e-33\n",
      "Time:                        19:40:10   Log-Likelihood:                -1062.4\n",
      "No. Observations:                 200   AIC:                             2139.\n",
      "Df Residuals:                     193   BIC:                             2162.\n",
      "Df Model:                           6                                         \n",
      "Covariance Type:            nonrobust                                         \n",
      "==============================================================================\n",
      "                 coef    std err          t      P>|t|      [0.025      0.975]\n",
      "------------------------------------------------------------------------------\n",
      "Intercept    116.0009     35.959      3.226      0.001      45.079     186.923\n",
      "x2             0.5461      0.252      2.165      0.032       0.049       1.044\n",
      "x4            -2.2289      0.521     -4.274      0.000      -3.257      -1.200\n",
      "x5             1.1608      0.493      2.354      0.020       0.188       2.133\n",
      "x8            -0.8277      0.359     -2.308      0.022      -1.535      -0.120\n",
      "x9             1.2466      0.498      2.503      0.013       0.264       2.229\n",
      "x10            1.0212      0.232      4.409      0.000       0.564       1.478\n",
      "==============================================================================\n",
      "Omnibus:                       43.550   Durbin-Watson:                   2.225\n",
      "Prob(Omnibus):                  0.000   Jarque-Bera (JB):              131.205\n",
      "Skew:                          -0.874   Prob(JB):                     3.23e-29\n",
      "Kurtosis:                       6.562   Cond. No.                     1.56e+03\n",
      "==============================================================================\n",
      "\n",
      "Notes:\n",
      "[1] Standard Errors assume that the covariance matrix of the errors is correctly specified.\n",
      "[2] The condition number is large, 1.56e+03. This might indicate that there are\n",
      "strong multicollinearity or other numerical problems.\n",
      "\n",
      "Lasso selection model:\n",
      "                            OLS Regression Results                            \n",
      "==============================================================================\n",
      "Dep. Variable:                      y   R-squared:                       0.580\n",
      "Model:                            OLS   Adj. R-squared:                  0.560\n",
      "Method:                 Least Squares   F-statistic:                     29.18\n",
      "Date:                Sun, 19 Oct 2025   Prob (F-statistic):           1.83e-31\n",
      "Time:                        19:40:10   Log-Likelihood:                -1061.7\n",
      "No. Observations:                 200   AIC:                             2143.\n",
      "Df Residuals:                     190   BIC:                             2176.\n",
      "Df Model:                           9                                         \n",
      "Covariance Type:            nonrobust                                         \n",
      "==============================================================================\n",
      "                 coef    std err          t      P>|t|      [0.025      0.975]\n",
      "------------------------------------------------------------------------------\n",
      "Intercept    146.1141     49.462      2.954      0.004      48.549     243.680\n",
      "x1            -0.3367      0.365     -0.923      0.357      -1.056       0.383\n",
      "x2             0.5183      0.259      2.005      0.046       0.008       1.028\n",
      "x3            -0.4969      0.650     -0.765      0.445      -1.779       0.785\n",
      "x4            -2.6052      0.755     -3.452      0.001      -4.094      -1.117\n",
      "x5             1.2021      0.503      2.388      0.018       0.209       2.195\n",
      "x7            -0.0218      0.237     -0.092      0.927      -0.490       0.446\n",
      "x8            -0.6446      0.435     -1.481      0.140      -1.503       0.214\n",
      "x9             1.3297      0.509      2.610      0.010       0.325       2.335\n",
      "x10            1.0235      0.234      4.381      0.000       0.563       1.484\n",
      "==============================================================================\n",
      "Omnibus:                       43.959   Durbin-Watson:                   2.239\n",
      "Prob(Omnibus):                  0.000   Jarque-Bera (JB):              137.198\n",
      "Skew:                          -0.870   Prob(JB):                     1.61e-30\n",
      "Kurtosis:                       6.666   Cond. No.                     2.64e+03\n",
      "==============================================================================\n",
      "\n",
      "Notes:\n",
      "[1] Standard Errors assume that the covariance matrix of the errors is correctly specified.\n",
      "[2] The condition number is large, 2.64e+03. This might indicate that there are\n",
      "strong multicollinearity or other numerical problems.\n"
     ]
    }
   ],
   "source": [
    "# Testing methods of feature selection for data dataset\n",
    "\n",
    "features = data.columns.tolist()\n",
    "features.remove(\"y\")\n",
    "\n",
    "fs_model = forward_selection(features, data)\n",
    "bs_model = backward_selection(features, data)\n",
    "lasso_model = lasso(data)\n",
    "\n",
    "print(\"Forward selection model:\")\n",
    "print(fs_model.summary())\n",
    "\n",
    "print(\"\")\n",
    "\n",
    "print(\"Backward selection model:\")\n",
    "print(bs_model.summary())\n",
    "\n",
    "print(\"\")\n",
    "\n",
    "print(\"Lasso selection model:\")\n",
    "print(lasso_model.summary())"
   ]
  },
  {
   "cell_type": "code",
   "execution_count": 24,
   "id": "174e7c1c",
   "metadata": {},
   "outputs": [
    {
     "name": "stdout",
     "output_type": "stream",
     "text": [
      "Forward selection model:\n",
      "                            OLS Regression Results                            \n",
      "==============================================================================\n",
      "Dep. Variable:                      y   R-squared:                       0.711\n",
      "Model:                            OLS   Adj. R-squared:                  0.704\n",
      "Method:                 Least Squares   F-statistic:                     90.21\n",
      "Date:                Sun, 19 Oct 2025   Prob (F-statistic):           1.69e-47\n",
      "Time:                        19:40:11   Log-Likelihood:                -934.67\n",
      "No. Observations:                 189   AIC:                             1881.\n",
      "Df Residuals:                     183   BIC:                             1901.\n",
      "Df Model:                           5                                         \n",
      "Covariance Type:            nonrobust                                         \n",
      "==============================================================================\n",
      "                 coef    std err          t      P>|t|      [0.025      0.975]\n",
      "------------------------------------------------------------------------------\n",
      "Intercept     90.0745     37.226      2.420      0.017      16.627     163.522\n",
      "x5             2.0941      0.116     18.128      0.000       1.866       2.322\n",
      "x3             3.2427      0.413      7.845      0.000       2.427       4.058\n",
      "x8            -1.2046      0.383     -3.143      0.002      -1.961      -0.448\n",
      "x9             0.6999      0.365      1.917      0.057      -0.020       1.420\n",
      "x1            -0.4506      0.257     -1.751      0.082      -0.958       0.057\n",
      "==============================================================================\n",
      "Omnibus:                        4.311   Durbin-Watson:                   2.085\n",
      "Prob(Omnibus):                  0.116   Jarque-Bera (JB):                3.946\n",
      "Skew:                          -0.283   Prob(JB):                        0.139\n",
      "Kurtosis:                       3.425   Cond. No.                     1.98e+03\n",
      "==============================================================================\n",
      "\n",
      "Notes:\n",
      "[1] Standard Errors assume that the covariance matrix of the errors is correctly specified.\n",
      "[2] The condition number is large, 1.98e+03. This might indicate that there are\n",
      "strong multicollinearity or other numerical problems.\n",
      "\n",
      "Backward selection model:\n",
      "                            OLS Regression Results                            \n",
      "==============================================================================\n",
      "Dep. Variable:                      y   R-squared:                       0.711\n",
      "Model:                            OLS   Adj. R-squared:                  0.704\n",
      "Method:                 Least Squares   F-statistic:                     90.21\n",
      "Date:                Sun, 19 Oct 2025   Prob (F-statistic):           1.69e-47\n",
      "Time:                        19:40:11   Log-Likelihood:                -934.67\n",
      "No. Observations:                 189   AIC:                             1881.\n",
      "Df Residuals:                     183   BIC:                             1901.\n",
      "Df Model:                           5                                         \n",
      "Covariance Type:            nonrobust                                         \n",
      "==============================================================================\n",
      "                 coef    std err          t      P>|t|      [0.025      0.975]\n",
      "------------------------------------------------------------------------------\n",
      "Intercept     90.0745     37.226      2.420      0.017      16.627     163.522\n",
      "x1            -0.4506      0.257     -1.751      0.082      -0.958       0.057\n",
      "x3             3.2427      0.413      7.845      0.000       2.427       4.058\n",
      "x5             2.0941      0.116     18.128      0.000       1.866       2.322\n",
      "x8            -1.2046      0.383     -3.143      0.002      -1.961      -0.448\n",
      "x9             0.6999      0.365      1.917      0.057      -0.020       1.420\n",
      "==============================================================================\n",
      "Omnibus:                        4.311   Durbin-Watson:                   2.085\n",
      "Prob(Omnibus):                  0.116   Jarque-Bera (JB):                3.946\n",
      "Skew:                          -0.283   Prob(JB):                        0.139\n",
      "Kurtosis:                       3.425   Cond. No.                     1.98e+03\n",
      "==============================================================================\n",
      "\n",
      "Notes:\n",
      "[1] Standard Errors assume that the covariance matrix of the errors is correctly specified.\n",
      "[2] The condition number is large, 1.98e+03. This might indicate that there are\n",
      "strong multicollinearity or other numerical problems.\n",
      "\n",
      "Lasso selection model:\n",
      "                            OLS Regression Results                            \n",
      "==============================================================================\n",
      "Dep. Variable:                      y   R-squared:                       0.716\n",
      "Model:                            OLS   Adj. R-squared:                  0.700\n",
      "Method:                 Least Squares   F-statistic:                     44.78\n",
      "Date:                Sun, 19 Oct 2025   Prob (F-statistic):           1.97e-43\n",
      "Time:                        19:40:11   Log-Likelihood:                -933.29\n",
      "No. Observations:                 189   AIC:                             1889.\n",
      "Df Residuals:                     178   BIC:                             1924.\n",
      "Df Model:                          10                                         \n",
      "Covariance Type:            nonrobust                                         \n",
      "==============================================================================\n",
      "                 coef    std err          t      P>|t|      [0.025      0.975]\n",
      "------------------------------------------------------------------------------\n",
      "Intercept    119.9942     46.099      2.603      0.010      29.023     210.965\n",
      "x1            -0.4566      0.260     -1.759      0.080      -0.969       0.056\n",
      "x2             0.2844      0.238      1.196      0.233      -0.185       0.754\n",
      "x3             3.2476      0.921      3.528      0.001       1.431       5.064\n",
      "x4             0.0292      0.844      0.035      0.972      -1.636       1.695\n",
      "x5             1.5502      0.469      3.309      0.001       0.626       2.475\n",
      "x6            -1.3607      1.341     -1.015      0.312      -4.007       1.285\n",
      "x7             0.0425      0.169      0.251      0.802      -0.292       0.377\n",
      "x8            -1.3831      0.442     -3.128      0.002      -2.256      -0.510\n",
      "x9             0.7005      0.371      1.887      0.061      -0.032       1.433\n",
      "x10            0.2182      0.232      0.941      0.348      -0.240       0.676\n",
      "==============================================================================\n",
      "Omnibus:                        4.076   Durbin-Watson:                   2.090\n",
      "Prob(Omnibus):                  0.130   Jarque-Bera (JB):                3.720\n",
      "Skew:                          -0.268   Prob(JB):                        0.156\n",
      "Kurtosis:                       3.430   Cond. No.                     3.45e+03\n",
      "==============================================================================\n",
      "\n",
      "Notes:\n",
      "[1] Standard Errors assume that the covariance matrix of the errors is correctly specified.\n",
      "[2] The condition number is large, 3.45e+03. This might indicate that there are\n",
      "strong multicollinearity or other numerical problems.\n"
     ]
    }
   ],
   "source": [
    "# Testing methods of feature selection for data_cleand dataset\n",
    "\n",
    "features = data_cleaned.columns.tolist()\n",
    "features.remove(\"y\")\n",
    "\n",
    "fs_model = forward_selection(features, data_cleaned)\n",
    "bs_model = backward_selection(features, data_cleaned)\n",
    "lasso_model = lasso(data_cleaned)\n",
    "\n",
    "print(\"Forward selection model:\")\n",
    "print(fs_model.summary())\n",
    "\n",
    "print(\"\")\n",
    "\n",
    "print(\"Backward selection model:\")\n",
    "print(bs_model.summary())\n",
    "\n",
    "print(\"\")\n",
    "\n",
    "print(\"Lasso selection model:\")\n",
    "print(lasso_model.summary())"
   ]
  },
  {
   "cell_type": "markdown",
   "id": "d2a8898c-d782-4683-a565-498d4da7e57b",
   "metadata": {},
   "source": [
    "### **Add your verbal summary here (1p)**:"
   ]
  },
  {
   "cell_type": "markdown",
   "id": "3b7d51c3",
   "metadata": {},
   "source": [
    "Three different feature selection methods were employed to identify the optimal set of predictors for the linear model: forward selection, backward selection, and LASSO regularization. These methods were applied to both the original dataset and the cleaned dataset (from which outliers were removed).\n",
    "\n",
    "**Forward and backward selection**\n",
    "- The result is that the forward and backward selection selected same model for data and also same model for data_clean dataset. \n",
    "- For data dataset the model is: y ~ x2 + x4 + x5 + x8 + x9 + x10 with R-squared 0.577 and adj. R-squared: 0.564. \n",
    "- For data cleaned dataset the model is: y ~ x1 + x3 + x5 + x8 + x9 with R-squared 0.711 and adj. R-squared: 0.704.\n",
    "\n",
    "**Lasso method**\n",
    "- Lasso method select worse model in both cases. \n",
    "- For data dataset it selected model: y ~ x1 + x2 + x3 + x4 + x5 + x7 + x8 + x9 + x10 with R-squared: 0.580 and adj. R-squared: 0.560. \n",
    "- For data cleaned dataset it selected model: y ~ x1 + x2 + x3 + x4 + x5 + x7 + x8 + x9 + x10 with R-squared: 0.716 and adj. R-squared: 0.700.\n",
    "\n",
    "**Selecting model**\n",
    "- I will select the model generated by Backward (Forward) Selection on the cleaned data.\n",
    "- It achieved the highest adjusted R-squared (0.704) and corresponds to the same model that was manually selected in the second part so the interpretation is the same.\n"
   ]
  },
  {
   "cell_type": "markdown",
   "id": "57c7b038-3bd6-4c84-9898-386efa404fe1",
   "metadata": {},
   "source": [
    "## Grading \n",
    "+ 1p for selection of proper methods for assumption verification and their explanation\n",
    "+ 1p for the correct implementation of issue removal\n",
    "+ 1p for its explanation and right decisions in further model design themselves\n",
    "+ 1p for proper application of feature selection techniques and their comparison \n",
    "+ 1p for comprehensive evaluation of all the model improvements and the final wrap up"
   ]
  },
  {
   "cell_type": "markdown",
   "id": "17664db4-5446-48c5-942d-80ca26ce2821",
   "metadata": {},
   "source": [
    "## Feedback\n",
    "Was some part of the notebook unclear, would any topic need more attention during the tutorials? \n",
    "If you want to leave us feedback on the assignment, we would be happy to hear it. \n",
    "Here is your space:"
   ]
  }
 ],
 "metadata": {
  "kernelspec": {
   "display_name": "venv",
   "language": "python",
   "name": "python3"
  },
  "language_info": {
   "codemirror_mode": {
    "name": "ipython",
    "version": 3
   },
   "file_extension": ".py",
   "mimetype": "text/x-python",
   "name": "python",
   "nbconvert_exporter": "python",
   "pygments_lexer": "ipython3",
   "version": "3.12.2"
  }
 },
 "nbformat": 4,
 "nbformat_minor": 5
}
